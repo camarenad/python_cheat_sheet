{
 "cells": [
  {
   "cell_type": "markdown",
   "metadata": {},
   "source": [
    "# Python Basics\n",
    "\n",
    "- Integers, strings, tuples, lists, and dictionaries\n",
    "- Arithmetic operations and string operations\n",
    "- Variable assignment\n"
   ]
  },
  {
   "cell_type": "markdown",
   "metadata": {},
   "source": [
    "## Variables\n",
    "You can think of variables as containers to store and hold your data for later use. Variables can hold any data type. You can \"declare\" a variable the following way:\n",
    "\n",
    "- number_list = [1,2,3]\n",
    "- string = \"Goodbye\"\n",
    "- stored_dictionary = {\"name\":\"phil\"}\n",
    "- number_var = 23\n",
    "- tuple_var = ('ice','chips','soda')\n",
    "\n",
    "Rules:\n",
    "- A variable name must start with a letter or the underscore character.\n",
    "- A variable name cannot start with a number.\n",
    "- A variable name can only contain alpha-numeric characters and underscores (A-z, 0-9, and _ )\n",
    "- Variable names are case-sensitive (age, Age and AGE are three different variables)\n",
    "\n"
   ]
  },
  {
   "cell_type": "markdown",
   "metadata": {},
   "source": [
    "## String Type\n",
    "\"baseball\"\n",
    "\n",
    "- Strings are a collection of characters enclosed in \" \" or ' '\n",
    "- Is mutable (can be changed)\n",
    "- Can be indexed by offset\n",
    "- Built in functions to determine length, search and format\n"
   ]
  },
  {
   "cell_type": "markdown",
   "metadata": {},
   "source": [
    "## List type\n",
    "[\"hats\",\"shirts\",\"socks\",10,12]\n",
    "- A list is used to store a collection of data \n",
    "- The data can be of any type e.g. strings, numbers, lists, dictionaries\n",
    "- Brackets wrapping data indicate a list type e.g.\n",
    "- Is mutable (can be changed)\n",
    "- Can be indexed by offset\n",
    "- Built-in functions to count, search, reverse, etc"
   ]
  },
  {
   "cell_type": "markdown",
   "metadata": {},
   "source": [
    "## Number\n",
    "- Integer 12, 43, -23\n",
    "- Float 23.5, 50.23\n",
    "- Long 187687654564658970978909869576453"
   ]
  },
  {
   "cell_type": "markdown",
   "metadata": {},
   "source": [
    "## Sequential Data types\n",
    "- String\n",
    "- List\n",
    "- Tuple (immutable type / Cannot be changed)\n",
    "- Set (immutable type / Cannot be changed)\n",
    "- Dictionary"
   ]
  },
  {
   "cell_type": "markdown",
   "metadata": {},
   "source": [
    "# Code Examples\n",
    "#### Integers and Floats\n",
    "Integers are numeric values and can be stored, manipulated, and expressed inside variables without quotes.\n",
    "\n",
    "Here are a few examples!"
   ]
  },
  {
   "cell_type": "markdown",
   "metadata": {},
   "source": [
    "### Comments\n",
    "- \\# hashes are used to make single line comments in python\n",
    "- ''' using three quotation marks allows you to make multiline comments'''\n",
    "\n"
   ]
  },
  {
   "cell_type": "markdown",
   "metadata": {},
   "source": [
    "#### Whole numbers"
   ]
  },
  {
   "cell_type": "code",
   "execution_count": 14,
   "metadata": {},
   "outputs": [
    {
     "name": "stdout",
     "output_type": "stream",
     "text": [
      "42\n"
     ]
    }
   ],
   "source": [
    "# print function renders data\n",
    "''' printing a whole number to the conosle'''\n",
    "print(42)"
   ]
  },
  {
   "cell_type": "markdown",
   "metadata": {},
   "source": [
    "#### Negative Numbers\n"
   ]
  },
  {
   "cell_type": "code",
   "execution_count": 15,
   "metadata": {},
   "outputs": [
    {
     "data": {
      "text/plain": [
       "-44"
      ]
     },
     "execution_count": 15,
     "metadata": {},
     "output_type": "execute_result"
    }
   ],
   "source": [
    "-44\n"
   ]
  },
  {
   "cell_type": "markdown",
   "metadata": {},
   "source": [
    "#### Common Mathmatical Operations\n",
    "You can also perform basic math using integers as well!"
   ]
  },
  {
   "cell_type": "markdown",
   "metadata": {},
   "source": [
    "#### Subtraction\n"
   ]
  },
  {
   "cell_type": "code",
   "execution_count": 13,
   "metadata": {},
   "outputs": [
    {
     "data": {
      "text/plain": [
       "26"
      ]
     },
     "execution_count": 13,
     "metadata": {},
     "output_type": "execute_result"
    }
   ],
   "source": [
    "# We should see 26 as the output\n",
    "45 - 19"
   ]
  },
  {
   "cell_type": "markdown",
   "metadata": {},
   "source": [
    "#### Multiplication"
   ]
  },
  {
   "cell_type": "code",
   "execution_count": 17,
   "metadata": {},
   "outputs": [
    {
     "data": {
      "text/plain": [
       "40.0"
      ]
     },
     "execution_count": 17,
     "metadata": {},
     "output_type": "execute_result"
    }
   ],
   "source": [
    "100 * .40"
   ]
  },
  {
   "cell_type": "markdown",
   "metadata": {},
   "source": [
    "#### Exponentiation\n",
    "$10^8$"
   ]
  },
  {
   "cell_type": "code",
   "execution_count": 19,
   "metadata": {},
   "outputs": [
    {
     "data": {
      "text/plain": [
       "100000000"
      ]
     },
     "execution_count": 19,
     "metadata": {},
     "output_type": "execute_result"
    }
   ],
   "source": [
    "10 ** 8"
   ]
  },
  {
   "cell_type": "markdown",
   "metadata": {},
   "source": [
    "#### Summation\n",
    "\n",
    "$\\sum_{n=1}^{10} 1+1$"
   ]
  },
  {
   "cell_type": "code",
   "execution_count": 24,
   "metadata": {},
   "outputs": [
    {
     "name": "stdout",
     "output_type": "stream",
     "text": [
      "2\n",
      "10\n"
     ]
    }
   ],
   "source": [
    "print(1 + 1)\n",
    "print(sum([1 + 1 for i in range(5)]))"
   ]
  },
  {
   "cell_type": "markdown",
   "metadata": {},
   "source": [
    "#### Modulo\n",
    "_The % symbol in Python is called the Modulo Operator. It returns the remainder of dividing the left hand operand by right hand operand. It's used to get the remainder of a division problem._"
   ]
  },
  {
   "cell_type": "code",
   "execution_count": 30,
   "metadata": {},
   "outputs": [
    {
     "name": "stdout",
     "output_type": "stream",
     "text": [
      "0\n",
      "1\n"
     ]
    }
   ],
   "source": [
    "print(10 % 2)\n",
    "print(7 % 3)"
   ]
  },
  {
   "cell_type": "markdown",
   "metadata": {},
   "source": [
    "#### Math with and without float precision\n",
    "_When expecting floating point precision with integers, your results will be rounded up._\n"
   ]
  },
  {
   "cell_type": "code",
   "execution_count": 34,
   "metadata": {},
   "outputs": [
    {
     "name": "stdout",
     "output_type": "stream",
     "text": [
      "0.3\n",
      "0.3\n",
      "0.3\n",
      "0.3\n"
     ]
    }
   ],
   "source": [
    "print(3 / 10)\n",
    "print(3.0 / 10)\n",
    "print(3 * 1.0 / 10)\n",
    "print(float(3) / 10)"
   ]
  },
  {
   "cell_type": "markdown",
   "metadata": {},
   "source": [
    "#### Type checking\n",
    "\n",
    "_We can always check the type of any Python object using the `type()` function._"
   ]
  },
  {
   "cell_type": "code",
   "execution_count": 49,
   "metadata": {},
   "outputs": [
    {
     "name": "stdout",
     "output_type": "stream",
     "text": [
      "<class 'int'>\n",
      "<class 'float'>\n",
      "<class 'set'>\n",
      "<class 'set'>\n"
     ]
    }
   ],
   "source": [
    "print(type(123456789))\n",
    "print(type(3 * 1.0))\n",
    "print(type({1,3}))\n",
    "print(type(set([2,3])))"
   ]
  },
  {
   "cell_type": "code",
   "execution_count": 40,
   "metadata": {},
   "outputs": [
    {
     "data": {
      "text/plain": [
       "float"
      ]
     },
     "execution_count": 40,
     "metadata": {},
     "output_type": "execute_result"
    }
   ],
   "source": [
    "type(3 * 1.0)"
   ]
  },
  {
   "cell_type": "markdown",
   "metadata": {},
   "source": [
    "## Strings\n",
    "\n",
    "#### Strings\n",
    "Strings are a basic unit of text in Python but they are are a sequential structure that allows reference of any character within them by numeric offset / index.\n"
   ]
  },
  {
   "cell_type": "code",
   "execution_count": 54,
   "metadata": {},
   "outputs": [
    {
     "name": "stdout",
     "output_type": "stream",
     "text": [
      "5.25531914893617\n",
      "Words are superior to numbers.\n"
     ]
    }
   ],
   "source": [
    "print(1 + 1 * 1000 / 235)\n",
    "print(\"Words are superior to numbers.\")"
   ]
  },
  {
   "cell_type": "code",
   "execution_count": 51,
   "metadata": {},
   "outputs": [
    {
     "data": {
      "text/plain": [
       "'Words are superior to numbers.'"
      ]
     },
     "execution_count": 51,
     "metadata": {},
     "output_type": "execute_result"
    }
   ],
   "source": [
    "# Typing the literal variable \"sentence\" on the last line in a notebook cell prints the value of that variable.\n",
    "\n",
    "sentence = \"Words are superior to numbers.\"\n",
    "sentence"
   ]
  },
  {
   "cell_type": "code",
   "execution_count": 55,
   "metadata": {},
   "outputs": [
    {
     "name": "stdout",
     "output_type": "stream",
     "text": [
      "PONZI\n",
      "Words are superior to numbers.\n"
     ]
    },
    {
     "data": {
      "text/plain": [
       "'WC ROCKS'"
      ]
     },
     "execution_count": 55,
     "metadata": {},
     "output_type": "execute_result"
    }
   ],
   "source": [
    "# iPython Notebook tip\n",
    "# This is the same as typing:\n",
    "print(\"PONZI\")\n",
    "print(sentence)\n",
    "\"WC ROCKS\""
   ]
  },
  {
   "cell_type": "code",
   "execution_count": 56,
   "metadata": {},
   "outputs": [
    {
     "data": {
      "text/plain": [
       "\"'Never put salt in your eyes', said the grasshopper\""
      ]
     },
     "execution_count": 56,
     "metadata": {},
     "output_type": "execute_result"
    }
   ],
   "source": [
    "'\\'Never put salt in your eyes\\', said the grasshopper'"
   ]
  },
  {
   "cell_type": "code",
   "execution_count": 57,
   "metadata": {},
   "outputs": [
    {
     "data": {
      "text/plain": [
       "'this is a string don\\'t worry \"be happy\" '"
      ]
     },
     "execution_count": 57,
     "metadata": {},
     "output_type": "execute_result"
    }
   ],
   "source": [
    "\"this is a string don't worry \\\"be happy\\\" \""
   ]
  },
  {
   "cell_type": "markdown",
   "metadata": {},
   "source": [
    "The **print** command prints the value assigned to the variable `x` on the screen. \n",
    "\n",
    "The **print** statement removes the quotations, whereas just running they jupyter cell with `x` at the last line leaves the quotations in.\n",
    "\n",
    "You can use 'single' or \"double\" quotations to create a string variable."
   ]
  },
  {
   "cell_type": "markdown",
   "metadata": {},
   "source": [
    "_note:  There are times you want to use a double or single quote._"
   ]
  },
  {
   "cell_type": "code",
   "execution_count": 58,
   "metadata": {},
   "outputs": [
    {
     "data": {
      "text/plain": [
       "'WORDS ARE SUPERIOR TO NUMBERS.'"
      ]
     },
     "execution_count": 58,
     "metadata": {},
     "output_type": "execute_result"
    }
   ],
   "source": [
    "sentence.upper()"
   ]
  },
  {
   "cell_type": "code",
   "execution_count": 59,
   "metadata": {},
   "outputs": [
    {
     "data": {
      "text/plain": [
       "str"
      ]
     },
     "execution_count": 59,
     "metadata": {},
     "output_type": "execute_result"
    }
   ],
   "source": [
    "type(sentence)"
   ]
  },
  {
   "cell_type": "code",
   "execution_count": 60,
   "metadata": {},
   "outputs": [
    {
     "data": {
      "text/plain": [
       "'Hut jabba jabba jabba hut hut HIKE'"
      ]
     },
     "execution_count": 60,
     "metadata": {},
     "output_type": "execute_result"
    }
   ],
   "source": [
    "\"Hut hut hut hut hut hut HIKE\".replace(\"hut\", \"jabba\", 3)"
   ]
  },
  {
   "cell_type": "code",
   "execution_count": 61,
   "metadata": {},
   "outputs": [
    {
     "data": {
      "text/plain": [
       "'Words are inferior to numbers.'"
      ]
     },
     "execution_count": 61,
     "metadata": {},
     "output_type": "execute_result"
    }
   ],
   "source": [
    "sentence.replace(\"superior\", \"inferior\")"
   ]
  },
  {
   "cell_type": "markdown",
   "metadata": {},
   "source": [
    "_Using the `[tab]` key after a `.` character on a Python object / variable, will display which attributes and functions exist for easy reference within **Jupyter Notebook**._\n",
    "\n",
    "_Also handy is `[shift]-[tab]` within function braces `()` will reference the documentation for that specific function.  This combination hit once will show you brief details.  `[shift]-[tab]` twice in a row, will show more vebose details and 3x will move the documenation into a frame residing on the lower portion of your notebook._"
   ]
  },
  {
   "cell_type": "code",
   "execution_count": 62,
   "metadata": {},
   "outputs": [
    {
     "data": {
      "text/plain": [
       "'WORDS ARE SUPERIOR TO NUMBERS.'"
      ]
     },
     "execution_count": 62,
     "metadata": {},
     "output_type": "execute_result"
    }
   ],
   "source": [
    "sentence.upper()"
   ]
  },
  {
   "cell_type": "code",
   "execution_count": 63,
   "metadata": {},
   "outputs": [
    {
     "data": {
      "text/plain": [
       "1"
      ]
     },
     "execution_count": 63,
     "metadata": {},
     "output_type": "execute_result"
    }
   ],
   "source": [
    "# Let's check this out here.\n",
    "sentence.count(\"are\")"
   ]
  },
  {
   "cell_type": "code",
   "execution_count": 257,
   "metadata": {},
   "outputs": [
    {
     "data": {
      "text/plain": [
       "'ZesZ'"
      ]
     },
     "execution_count": 257,
     "metadata": {},
     "output_type": "execute_result"
    }
   ],
   "source": [
    "my_string = \"test\"\n",
    "my_string.replace(\"t\", \"Z\")"
   ]
  },
  {
   "cell_type": "markdown",
   "metadata": {},
   "source": [
    "#### How print statements can be used\n",
    "\n",
    "1. Printing a string after an event has occured N number of times\n",
    "> ```python\n",
    "> event = \"12\"\n",
    "> \n",
    "> if event > [some type]:\n",
    ">     print(\"It occured 12 times\")\n",
    "> ```\n",
    "1. Printing a string after an event has occured more than %10 relative to the mean of events that occur in a day.  What type should \"some calculation\" return / evaluate to?\n",
    "> ```python\n",
    "> event_by_day = 100\n",
    ">\n",
    "> if event_by_day > (some calculation):\n",
    ">     print(\"Looks like we're %10 above the average of our typical occurances\")\n",
    "> ```\n",
    "1. Printing a string after we've seen an event that says \"foo\"\n",
    "> ```python\n",
    "> event_by_day = \"foo\" # I pitty the fool!\n",
    ">\n",
    "> if event_by_day == [some type]:\n",
    ">     print (\"Yeah it equals foo, good job!\")\n",
    "> ```\n"
   ]
  },
  {
   "cell_type": "markdown",
   "metadata": {},
   "source": [
    "## F-strings\n",
    "- sometimes we want the value of a piece of data to be printed dynmically instead of hard coded"
   ]
  },
  {
   "cell_type": "code",
   "execution_count": 5,
   "metadata": {},
   "outputs": [
    {
     "name": "stdout",
     "output_type": "stream",
     "text": [
      "Phil is logged in\n"
     ]
    }
   ],
   "source": [
    "age = 20\n",
    "user = 'Becky'\n",
    "if user:\n",
    "    print('Phil is logged in')\n",
    "else:\n",
    "    print('User is not logged in')\n",
    "    "
   ]
  },
  {
   "cell_type": "code",
   "execution_count": 6,
   "metadata": {},
   "outputs": [
    {
     "name": "stdout",
     "output_type": "stream",
     "text": [
      "Hello, My name is Becky and I'm 20 years old.\n"
     ]
    }
   ],
   "source": [
    "# This is the preferred syntax\n",
    "print(f\"Hello, My name is {user} and I'm {age} years old.\") \n"
   ]
  },
  {
   "cell_type": "code",
   "execution_count": 7,
   "metadata": {},
   "outputs": [
    {
     "name": "stdout",
     "output_type": "stream",
     "text": [
      "Becky is logged in\n"
     ]
    }
   ],
   "source": [
    "if user:\n",
    "    print('{} is logged in'.format(user))\n",
    "else:\n",
    "    print('User is not logged in')\n",
    "    "
   ]
  },
  {
   "cell_type": "code",
   "execution_count": 9,
   "metadata": {},
   "outputs": [
    {
     "name": "stdout",
     "output_type": "stream",
     "text": [
      "Becky is logged in and is 20 years old\n"
     ]
    }
   ],
   "source": [
    "if user:\n",
    "    print('{} is logged in and is {} years old'.format(user,age))\n",
    "else:\n",
    "    print('User is not logged in')\n",
    "    "
   ]
  },
  {
   "cell_type": "markdown",
   "metadata": {},
   "source": [
    "## Sequential Types\n",
    "- Strings\n",
    "- Lists\n",
    "- Tuples\n",
    "- Sets\n",
    "- Dictionaries\n",
    "\n",
    "---\n",
    "\n",
    "All of the above types can be accessed using brackets in the following ways:\n",
    "\n",
    "- **`x[0]`** References the first elements in a `string`, `list`, `tuple`, `set`, or `dictionary`.\n",
    "- **`x[0:4]`** References the first **4** elements of a string from index **`0`**.\n",
    "- **`x[-1]`** Reference the _first_ item in reverse order (or the last item).\n",
    "- **`x[-2]`** Reference the _second_ item in reverse order.\n",
    "- **`x[0:-3]`** Reference everyting _execept the last 3_ elements.\n"
   ]
  },
  {
   "cell_type": "code",
   "execution_count": 66,
   "metadata": {},
   "outputs": [
    {
     "data": {
      "text/plain": [
       "'Words are superior to numbe'"
      ]
     },
     "execution_count": 66,
     "metadata": {},
     "output_type": "execute_result"
    }
   ],
   "source": [
    "sentence[0:-3]"
   ]
  },
  {
   "cell_type": "code",
   "execution_count": 67,
   "metadata": {},
   "outputs": [
    {
     "data": {
      "text/plain": [
       "'W'"
      ]
     },
     "execution_count": 67,
     "metadata": {},
     "output_type": "execute_result"
    }
   ],
   "source": [
    "sentence[0]"
   ]
  },
  {
   "cell_type": "code",
   "execution_count": 68,
   "metadata": {},
   "outputs": [
    {
     "data": {
      "text/plain": [
       "'o'"
      ]
     },
     "execution_count": 68,
     "metadata": {},
     "output_type": "execute_result"
    }
   ],
   "source": [
    "sentence[1]"
   ]
  },
  {
   "cell_type": "code",
   "execution_count": 69,
   "metadata": {},
   "outputs": [
    {
     "data": {
      "text/plain": [
       "'r'"
      ]
     },
     "execution_count": 69,
     "metadata": {},
     "output_type": "execute_result"
    }
   ],
   "source": [
    "sentence[2]"
   ]
  },
  {
   "cell_type": "code",
   "execution_count": 70,
   "metadata": {},
   "outputs": [
    {
     "data": {
      "text/plain": [
       "'Word'"
      ]
     },
     "execution_count": 70,
     "metadata": {},
     "output_type": "execute_result"
    }
   ],
   "source": [
    "sentence[0:4]"
   ]
  },
  {
   "cell_type": "markdown",
   "metadata": {},
   "source": [
    "### How about `list`, `tuple`, `dict`, and `set`?\n",
    "\n",
    "Reference by index works the same way for these types"
   ]
  },
  {
   "cell_type": "code",
   "execution_count": 71,
   "metadata": {},
   "outputs": [
    {
     "data": {
      "text/plain": [
       "['coefficient', 'residual', 'linear', 'covariance', 'pearson', 'r2']"
      ]
     },
     "execution_count": 71,
     "metadata": {},
     "output_type": "execute_result"
    }
   ],
   "source": [
    "terms = [\"coefficient\", \"residual\", \"linear\", \"covariance\", \"pearson\", \"r2\"]\n",
    "terms"
   ]
  },
  {
   "cell_type": "code",
   "execution_count": 72,
   "metadata": {},
   "outputs": [
    {
     "data": {
      "text/plain": [
       "list"
      ]
     },
     "execution_count": 72,
     "metadata": {},
     "output_type": "execute_result"
    }
   ],
   "source": [
    "type(terms)"
   ]
  },
  {
   "cell_type": "code",
   "execution_count": 73,
   "metadata": {},
   "outputs": [
    {
     "data": {
      "text/plain": [
       "'residual'"
      ]
     },
     "execution_count": 73,
     "metadata": {},
     "output_type": "execute_result"
    }
   ],
   "source": [
    "terms[1]"
   ]
  },
  {
   "cell_type": "code",
   "execution_count": 74,
   "metadata": {},
   "outputs": [
    {
     "data": {
      "text/plain": [
       "'covariance'"
      ]
     },
     "execution_count": 74,
     "metadata": {},
     "output_type": "execute_result"
    }
   ],
   "source": [
    "terms[3]"
   ]
  },
  {
   "cell_type": "code",
   "execution_count": 75,
   "metadata": {},
   "outputs": [
    {
     "name": "stdout",
     "output_type": "stream",
     "text": [
      "['residual', 'linear'] ['residual', 'linear'] ['residual', 'linear']\n"
     ]
    }
   ],
   "source": [
    "print(terms[1:3], terms[-5: -3], terms[1:3])"
   ]
  },
  {
   "cell_type": "markdown",
   "metadata": {},
   "source": [
    "###  tricks with offset references"
   ]
  },
  {
   "cell_type": "code",
   "execution_count": 76,
   "metadata": {},
   "outputs": [
    {
     "data": {
      "text/plain": [
       "'r2'"
      ]
     },
     "execution_count": 76,
     "metadata": {},
     "output_type": "execute_result"
    }
   ],
   "source": [
    "terms[-1] # To get the last item by back-reference"
   ]
  },
  {
   "cell_type": "code",
   "execution_count": 77,
   "metadata": {},
   "outputs": [
    {
     "data": {
      "text/plain": [
       "['r2', 'pearson', 'covariance', 'linear', 'residual', 'coefficient']"
      ]
     },
     "execution_count": 77,
     "metadata": {},
     "output_type": "execute_result"
    }
   ],
   "source": [
    "terms[::-1] # Reverse a sequence"
   ]
  },
  {
   "cell_type": "code",
   "execution_count": 78,
   "metadata": {},
   "outputs": [
    {
     "data": {
      "text/plain": [
       "['r2', 'linear']"
      ]
     },
     "execution_count": 78,
     "metadata": {},
     "output_type": "execute_result"
    }
   ],
   "source": [
    "terms[::-3] # The last 2 items in reverse order (from offset 0, -1 reverses all, -2 reverses all and give first reversed item, etc)"
   ]
  },
  {
   "cell_type": "code",
   "execution_count": 79,
   "metadata": {},
   "outputs": [
    {
     "data": {
      "text/plain": [
       "'Words are superior'"
      ]
     },
     "execution_count": 79,
     "metadata": {},
     "output_type": "execute_result"
    }
   ],
   "source": [
    "sentence[0:-12] # Only a section of a string, referenced from the end"
   ]
  },
  {
   "cell_type": "code",
   "execution_count": 80,
   "metadata": {},
   "outputs": [
    {
     "data": {
      "text/plain": [
       "'Words are superior'"
      ]
     },
     "execution_count": 80,
     "metadata": {},
     "output_type": "execute_result"
    }
   ],
   "source": [
    "sentence[0:18] # Same result as previous but using forward reference from index 0"
   ]
  },
  {
   "cell_type": "code",
   "execution_count": 81,
   "metadata": {},
   "outputs": [
    {
     "data": {
      "text/plain": [
       "'.srebmun ot roirepus era sdroW'"
      ]
     },
     "execution_count": 81,
     "metadata": {},
     "output_type": "execute_result"
    }
   ],
   "source": [
    "sentence[::-1] # All of this works on strings a well because they are a sequential type!"
   ]
  },
  {
   "cell_type": "markdown",
   "metadata": {},
   "source": [
    "### Tuple"
   ]
  },
  {
   "cell_type": "code",
   "execution_count": 82,
   "metadata": {},
   "outputs": [
    {
     "data": {
      "text/plain": [
       "('Pikachu', 'Electric', 25, 150)"
      ]
     },
     "execution_count": 82,
     "metadata": {},
     "output_type": "execute_result"
    }
   ],
   "source": [
    "pokemon = (\"Pikachu\", \"Electric\", 25, 150)\n",
    "pokemon"
   ]
  },
  {
   "cell_type": "markdown",
   "metadata": {},
   "source": [
    "#### We can reference elements within a `tuple` just like any other sequential type in Python"
   ]
  },
  {
   "cell_type": "code",
   "execution_count": 83,
   "metadata": {},
   "outputs": [
    {
     "data": {
      "text/plain": [
       "'Pikachu'"
      ]
     },
     "execution_count": 83,
     "metadata": {},
     "output_type": "execute_result"
    }
   ],
   "source": [
    "pokemon[0]"
   ]
  },
  {
   "cell_type": "code",
   "execution_count": 84,
   "metadata": {},
   "outputs": [
    {
     "data": {
      "text/plain": [
       "'Electric'"
      ]
     },
     "execution_count": 84,
     "metadata": {},
     "output_type": "execute_result"
    }
   ],
   "source": [
    "pokemon[1]"
   ]
  },
  {
   "cell_type": "code",
   "execution_count": 85,
   "metadata": {},
   "outputs": [
    {
     "data": {
      "text/plain": [
       "150"
      ]
     },
     "execution_count": 85,
     "metadata": {},
     "output_type": "execute_result"
    }
   ],
   "source": [
    "pokemon[-1]"
   ]
  },
  {
   "cell_type": "code",
   "execution_count": 86,
   "metadata": {},
   "outputs": [
    {
     "data": {
      "text/plain": [
       "(150, 25, 'Electric', 'Pikachu')"
      ]
     },
     "execution_count": 86,
     "metadata": {},
     "output_type": "execute_result"
    }
   ],
   "source": [
    "pokemon[::-1]"
   ]
  },
  {
   "cell_type": "markdown",
   "metadata": {},
   "source": [
    "###  `list` vs a `tuple`"
   ]
  },
  {
   "cell_type": "code",
   "execution_count": 87,
   "metadata": {},
   "outputs": [],
   "source": [
    "# Both Types can hold different types of objects\n",
    "animals = [\"Fish\", \"Goat\", \"Baboon\", 1337, 1337.42]\n",
    "minerals = (\"Gold\", \"Zinc\", \"Copper\", 7331, 7331.24)"
   ]
  },
  {
   "cell_type": "code",
   "execution_count": 88,
   "metadata": {},
   "outputs": [
    {
     "data": {
      "text/plain": [
       "['Fish', 'Goat', 'Baboon', 1337, 1337.42]"
      ]
     },
     "execution_count": 88,
     "metadata": {},
     "output_type": "execute_result"
    }
   ],
   "source": [
    "animals"
   ]
  },
  {
   "cell_type": "code",
   "execution_count": 89,
   "metadata": {},
   "outputs": [
    {
     "data": {
      "text/plain": [
       "2"
      ]
     },
     "execution_count": 89,
     "metadata": {},
     "output_type": "execute_result"
    }
   ],
   "source": [
    "minerals.index(\"Copper\")"
   ]
  },
  {
   "cell_type": "code",
   "execution_count": 90,
   "metadata": {},
   "outputs": [],
   "source": [
    "# Check out the above variables here.  Use a . at the end of each variable name, and hit [tab] to inspect.\n",
    "# Select the objects in the popup using your arrow keys and [enter]\n",
    "# After you've selected the object from the list, hit [shift] + [tab] to see the function reference\n",
    "\n",
    "animals.append(\"Chicken\")"
   ]
  },
  {
   "cell_type": "code",
   "execution_count": 91,
   "metadata": {},
   "outputs": [
    {
     "data": {
      "text/plain": [
       "1"
      ]
     },
     "execution_count": 91,
     "metadata": {},
     "output_type": "execute_result"
    }
   ],
   "source": [
    "animals.index(\"Goat\")\n"
   ]
  },
  {
   "cell_type": "code",
   "execution_count": 92,
   "metadata": {},
   "outputs": [
    {
     "data": {
      "text/plain": [
       "'Baboon'"
      ]
     },
     "execution_count": 92,
     "metadata": {},
     "output_type": "execute_result"
    }
   ],
   "source": [
    "animals[2]"
   ]
  },
  {
   "cell_type": "markdown",
   "metadata": {},
   "source": [
    "### Let's examine more closely\n",
    "The `dis` module disassembles the byte code for a function and is useful to see the difference between tuples and lists.  In order to use it, we have to define our own functions to inspect.  More on functions later.\n",
    "\n",
    "> #### What is bytecode exactly?\n",
    "> **Bytecode** is what our human readable Python code is converted to, in order to exectute properly.  These are instructions referenced by numeric codes, constants, and references which are much faster for the CPU to read than reading the source code directly."
   ]
  },
  {
   "cell_type": "markdown",
   "metadata": {},
   "source": [
    "In **bytecode**, a list requires each element be broken into it's own step (`LOAD_CONST`), then assembled (`BUILD_LIST`).  A `tuple` on the other hand, only needs one instruction per level of nesting.\n"
   ]
  },
  {
   "cell_type": "code",
   "execution_count": 96,
   "metadata": {},
   "outputs": [],
   "source": [
    "from dis import dis\n",
    "\n",
    "# These functions don't return anything, on purpose\n",
    "def test_list():\n",
    "    cars = [\"Mustang\", \"Model 3\", \"Civic\", 1337, 1337.42]\n",
    "\n",
    "def test_tuple():\n",
    "    minerals = (\"Gold\", \"Zinc\", \"Copper\", 7331, 7331.24)"
   ]
  },
  {
   "cell_type": "code",
   "execution_count": 97,
   "metadata": {},
   "outputs": [
    {
     "name": "stdout",
     "output_type": "stream",
     "text": [
      "  5           0 LOAD_CONST               1 ('Mustang')\n",
      "              2 LOAD_CONST               2 ('Model 3')\n",
      "              4 LOAD_CONST               3 ('Civic')\n",
      "              6 LOAD_CONST               4 (1337)\n",
      "              8 LOAD_CONST               5 (1337.42)\n",
      "             10 BUILD_LIST               5\n",
      "             12 STORE_FAST               0 (cars)\n",
      "             14 LOAD_CONST               0 (None)\n",
      "             16 RETURN_VALUE\n"
     ]
    }
   ],
   "source": [
    "dis(test_list)"
   ]
  },
  {
   "cell_type": "code",
   "execution_count": 98,
   "metadata": {},
   "outputs": [
    {
     "name": "stdout",
     "output_type": "stream",
     "text": [
      "  8           0 LOAD_CONST               6 (('Gold', 'Zinc', 'Copper', 7331, 7331.24))\n",
      "              2 STORE_FAST               0 (minerals)\n",
      "              4 LOAD_CONST               0 (None)\n",
      "              6 RETURN_VALUE\n"
     ]
    }
   ],
   "source": [
    "dis(test_tuple)"
   ]
  },
  {
   "cell_type": "markdown",
   "metadata": {},
   "source": [
    "### Common List Operations\n"
   ]
  },
  {
   "cell_type": "code",
   "execution_count": 101,
   "metadata": {},
   "outputs": [
    {
     "data": {
      "text/plain": [
       "['The Beatles',\n",
       " 'Tame Impala',\n",
       " 'Weather Report',\n",
       " 1337,\n",
       " 1337.42,\n",
       " 'The Robert Glasper Experience']"
      ]
     },
     "execution_count": 101,
     "metadata": {},
     "output_type": "execute_result"
    }
   ],
   "source": [
    "# Adds an element to the end of the list\n",
    "bands = [\"The Beatles\", \"Tame Impala\", \"Weather Report\", 1337, 1337.42]\n",
    "bands.append(\"The Robert Glasper Experience\")\n",
    "bands"
   ]
  },
  {
   "cell_type": "code",
   "execution_count": 103,
   "metadata": {},
   "outputs": [
    {
     "data": {
      "text/plain": [
       "1"
      ]
     },
     "execution_count": 103,
     "metadata": {},
     "output_type": "execute_result"
    }
   ],
   "source": [
    "# Count function counts number of elements matching the input\n",
    "bands.count(\"Tame Impala\")"
   ]
  },
  {
   "cell_type": "markdown",
   "metadata": {},
   "source": [
    "### Appending vs Extending\n"
   ]
  },
  {
   "cell_type": "code",
   "execution_count": 104,
   "metadata": {},
   "outputs": [],
   "source": [
    "bands = [\"The Beatles\", \"Tame Impala\", \"Weather Report\", 1337, 1337.42]\n",
    "rappers = ['Dababy','Gucci Mane','Madlib']\n",
    "\n"
   ]
  },
  {
   "cell_type": "code",
   "execution_count": 105,
   "metadata": {},
   "outputs": [],
   "source": [
    "bands.extend(rappers)"
   ]
  },
  {
   "cell_type": "code",
   "execution_count": 106,
   "metadata": {},
   "outputs": [
    {
     "data": {
      "text/plain": [
       "['The Beatles',\n",
       " 'Tame Impala',\n",
       " 'Weather Report',\n",
       " 1337,\n",
       " 1337.42,\n",
       " 'Dababy',\n",
       " 'Gucci Mane',\n",
       " 'Madlib']"
      ]
     },
     "execution_count": 106,
     "metadata": {},
     "output_type": "execute_result"
    }
   ],
   "source": [
    "bands"
   ]
  },
  {
   "cell_type": "code",
   "execution_count": 107,
   "metadata": {},
   "outputs": [],
   "source": [
    "bands.append(rappers)"
   ]
  },
  {
   "cell_type": "code",
   "execution_count": 108,
   "metadata": {},
   "outputs": [
    {
     "data": {
      "text/plain": [
       "['The Beatles',\n",
       " 'Tame Impala',\n",
       " 'Weather Report',\n",
       " 1337,\n",
       " 1337.42,\n",
       " 'Dababy',\n",
       " 'Gucci Mane',\n",
       " 'Madlib',\n",
       " ['Dababy', 'Gucci Mane', 'Madlib']]"
      ]
     },
     "execution_count": 108,
     "metadata": {},
     "output_type": "execute_result"
    }
   ],
   "source": [
    "bands"
   ]
  },
  {
   "cell_type": "markdown",
   "metadata": {},
   "source": [
    "### Sorting Lists\n"
   ]
  },
  {
   "cell_type": "code",
   "execution_count": 109,
   "metadata": {},
   "outputs": [
    {
     "data": {
      "text/plain": [
       "['Fish', 'Goat', 'Baboon', '1337', '1337.42']"
      ]
     },
     "execution_count": 109,
     "metadata": {},
     "output_type": "execute_result"
    }
   ],
   "source": [
    "animals     = [\"Fish\", \"Goat\", \"Baboon\", 1337, 1337.42]\n",
    "animals = [str(animal) for animal in animals]\n",
    "animals"
   ]
  },
  {
   "cell_type": "code",
   "execution_count": 112,
   "metadata": {},
   "outputs": [
    {
     "data": {
      "text/plain": [
       "['Goat', 'Fish', 'Baboon', '1337.42', '1337']"
      ]
     },
     "execution_count": 112,
     "metadata": {},
     "output_type": "execute_result"
    }
   ],
   "source": [
    "animals.sort(reverse= True) # Default is reverse=False\n",
    "animals"
   ]
  },
  {
   "cell_type": "code",
   "execution_count": 113,
   "metadata": {},
   "outputs": [
    {
     "data": {
      "text/plain": [
       "['1337', '1337.42', 'Baboon', 'Fish', 'Goat']"
      ]
     },
     "execution_count": 113,
     "metadata": {},
     "output_type": "execute_result"
    }
   ],
   "source": [
    "animals.sort() # Default is reverse=False\n",
    "animals"
   ]
  },
  {
   "cell_type": "code",
   "execution_count": 115,
   "metadata": {},
   "outputs": [
    {
     "data": {
      "text/plain": [
       "['a', 'b', 'c']"
      ]
     },
     "execution_count": 115,
     "metadata": {},
     "output_type": "execute_result"
    }
   ],
   "source": [
    "letters = ['a','c','b']\n",
    "letters.sort()\n",
    "letters"
   ]
  },
  {
   "cell_type": "code",
   "execution_count": 116,
   "metadata": {},
   "outputs": [
    {
     "data": {
      "text/plain": [
       "['c', 'b', 'a']"
      ]
     },
     "execution_count": 116,
     "metadata": {},
     "output_type": "execute_result"
    }
   ],
   "source": [
    "letters.sort(reverse=True)\n",
    "letters"
   ]
  },
  {
   "cell_type": "code",
   "execution_count": 117,
   "metadata": {},
   "outputs": [
    {
     "data": {
      "text/plain": [
       "[1, 2, 4, 6]"
      ]
     },
     "execution_count": 117,
     "metadata": {},
     "output_type": "execute_result"
    }
   ],
   "source": [
    "nums = [1,2,4,6]\n",
    "nums.sort()\n",
    "nums"
   ]
  },
  {
   "cell_type": "code",
   "execution_count": 119,
   "metadata": {},
   "outputs": [
    {
     "data": {
      "text/plain": [
       "[6, 4, 2, 1]"
      ]
     },
     "execution_count": 119,
     "metadata": {},
     "output_type": "execute_result"
    }
   ],
   "source": [
    "nums.sort(reverse=True)\n",
    "nums"
   ]
  },
  {
   "cell_type": "markdown",
   "metadata": {},
   "source": [
    "# Sets\n",
    "A `set` is like a list and like a tuple that it is a sequential type.  It is one of two common Python datatypes that don't guarantee order.  The means that sequential order of anything defined in a `set` could in fact be different than how it was defined."
   ]
  },
  {
   "cell_type": "code",
   "execution_count": 124,
   "metadata": {},
   "outputs": [
    {
     "data": {
      "text/plain": [
       "{'Excellent', 'Great', 'Medium', 'Normal', 'Poor'}"
      ]
     },
     "execution_count": 124,
     "metadata": {},
     "output_type": "execute_result"
    }
   ],
   "source": [
    "grades = set([\"Poor\", \"Medium\", \"Normal\", \"Great\", \"Excellent\",\"Normal\",\"Great\"])\n",
    "grades"
   ]
  },
  {
   "cell_type": "code",
   "execution_count": 125,
   "metadata": {},
   "outputs": [
    {
     "data": {
      "text/plain": [
       "{'Bulbasaur', 'Charizard', 'Mike', 'Pikachu'}"
      ]
     },
     "execution_count": 125,
     "metadata": {},
     "output_type": "execute_result"
    }
   ],
   "source": [
    "pokemon = set([\"Pikachu\", \"Charizard\", \"Bulbasaur\", \"Pikachu\", \"Mike\", \"Mike\", \"Charizard\"]) # Notice the input of 7 elements into our `set()`\n",
    "pokemon"
   ]
  },
  {
   "cell_type": "markdown",
   "metadata": {},
   "source": [
    "## What can a `set` do that other sequential types can't?\n",
    "Set opertations are powerful tools that enable us to select and exclude data through dissimilarity and commonality.  It's also easy to convert a `list` or a `tuple` to a `set`.\n",
    "\n",
    "- All elements in a `set` are unique.\n",
    "- All elements in a `set` are unordered."
   ]
  },
  {
   "cell_type": "code",
   "execution_count": 128,
   "metadata": {},
   "outputs": [],
   "source": [
    "animals = set([\"Bat\", \"Cat\", \"Rat\"])\n",
    "flying  = set([\"Bat\", \"Seagull\", \"Eagle\"])\n",
    "running = set([\"Cat\", \"Rat\", \"Dog\"])"
   ]
  },
  {
   "cell_type": "markdown",
   "metadata": {},
   "source": [
    "### Animals that fly: $animals \\cap flying$\n",
    "Intersection only returns what's common between each set."
   ]
  },
  {
   "cell_type": "code",
   "execution_count": 129,
   "metadata": {},
   "outputs": [
    {
     "data": {
      "text/plain": [
       "{'Bat'}"
      ]
     },
     "execution_count": 129,
     "metadata": {},
     "output_type": "execute_result"
    }
   ],
   "source": [
    "animals.intersection(flying)"
   ]
  },
  {
   "cell_type": "markdown",
   "metadata": {},
   "source": [
    "### Flying and Animals: $animals\\cup flying$\n",
    "Union returns all unique items between sets."
   ]
  },
  {
   "cell_type": "code",
   "execution_count": 130,
   "metadata": {},
   "outputs": [
    {
     "data": {
      "text/plain": [
       "{'Bat', 'Cat', 'Eagle', 'Rat', 'Seagull'}"
      ]
     },
     "execution_count": 130,
     "metadata": {},
     "output_type": "execute_result"
    }
   ],
   "source": [
    "flying.union(animals)"
   ]
  },
  {
   "cell_type": "markdown",
   "metadata": {},
   "source": [
    "### Difference of Animals and Flying: $animals\\setminus Flying$\n",
    "Show only non-matching items (the opposite of intersection)."
   ]
  },
  {
   "cell_type": "code",
   "execution_count": 132,
   "metadata": {},
   "outputs": [
    {
     "data": {
      "text/plain": [
       "{'Cat', 'Rat'}"
      ]
     },
     "execution_count": 132,
     "metadata": {},
     "output_type": "execute_result"
    }
   ],
   "source": [
    "different_animals = animals.difference(flying)\n",
    "different_animals"
   ]
  },
  {
   "cell_type": "markdown",
   "metadata": {},
   "source": [
    "### All Animals: $all = animals\\cup flying\\cup running$"
   ]
  },
  {
   "cell_type": "code",
   "execution_count": 133,
   "metadata": {},
   "outputs": [
    {
     "data": {
      "text/plain": [
       "{'Bat', 'Cat', 'Dog', 'Eagle', 'Rat', 'Seagull'}"
      ]
     },
     "execution_count": 133,
     "metadata": {},
     "output_type": "execute_result"
    }
   ],
   "source": [
    "all_animals = animals.union(\n",
    "    flying.union(running)\n",
    ")\n",
    "all_animals"
   ]
  },
  {
   "cell_type": "markdown",
   "metadata": {},
   "source": [
    "# Dictionaries are very useful objects\n",
    "\n",
    "One of the most common types, and sometimes most misunderstood is the Python dictionary.\n",
    "\n",
    "- Referenced by key\n",
    "- Unique key space (like a set)\n",
    "- Order isn't guaranteed (like a set)\n",
    "- Keys can be any type\n",
    "- Values can be any type\n",
    "- Can be nested (dictionary of dictionaries)"
   ]
  },
  {
   "cell_type": "code",
   "execution_count": 134,
   "metadata": {},
   "outputs": [],
   "source": [
    "pokedex = {\n",
    "    \"pikachu\": {\n",
    "        \"speed\": 15,\n",
    "        \"power\": 150\n",
    "    },\n",
    "    \"charizard\": {\n",
    "        \"speed\": 15,\n",
    "        \"power\": 150,\n",
    "        \"cellphone\": {\n",
    "            \"motorola\": {\n",
    "                \"phone\": [8001234567, 8001234568, 8001234569]\n",
    "            }\n",
    "        }\n",
    "    },\n",
    "    \"bulbasaur\": {\n",
    "        \"speed\": 15,\n",
    "        \"power\": 150\n",
    "    },\n",
    "}\n"
   ]
  },
  {
   "cell_type": "markdown",
   "metadata": {},
   "source": [
    "#### how to index into a dictionary."
   ]
  },
  {
   "cell_type": "code",
   "execution_count": 135,
   "metadata": {},
   "outputs": [
    {
     "data": {
      "text/plain": [
       "{'speed': 15, 'power': 150}"
      ]
     },
     "execution_count": 135,
     "metadata": {},
     "output_type": "execute_result"
    }
   ],
   "source": [
    "pokedex['pikachu']"
   ]
  },
  {
   "cell_type": "code",
   "execution_count": 137,
   "metadata": {},
   "outputs": [
    {
     "data": {
      "text/plain": [
       "8001234567"
      ]
     },
     "execution_count": 137,
     "metadata": {},
     "output_type": "execute_result"
    }
   ],
   "source": [
    "# Indexing into multiple levels of a dictionary\n",
    "pokedex['charizard']['cellphone']['motorola']['phone'][0]"
   ]
  },
  {
   "cell_type": "code",
   "execution_count": 138,
   "metadata": {},
   "outputs": [
    {
     "data": {
      "text/plain": [
       "8001234569"
      ]
     },
     "execution_count": 138,
     "metadata": {},
     "output_type": "execute_result"
    }
   ],
   "source": [
    "pokedex['charizard']['cellphone']['motorola']['phone'][2]"
   ]
  },
  {
   "cell_type": "code",
   "execution_count": 140,
   "metadata": {},
   "outputs": [
    {
     "data": {
      "text/plain": [
       "{'Harry Porter': 'Boy Wizzard',\n",
       " 'Hermenia Grangy': 'Girl Wizzard',\n",
       " 'Ton Weasly': 'Boy Wizzard'}"
      ]
     },
     "execution_count": 140,
     "metadata": {},
     "output_type": "execute_result"
    }
   ],
   "source": [
    "characters = {\n",
    "    \"Harry Porter\": 'Boy Wizzard',\n",
    "    \"Hermenia Grangy\": 'Girl Wizzard',\n",
    "    \"Ton Weasly\": 'Boy Wizzard'\n",
    "}\n",
    "\n",
    "characters\n"
   ]
  },
  {
   "cell_type": "code",
   "execution_count": 144,
   "metadata": {},
   "outputs": [
    {
     "data": {
      "text/plain": [
       "'Boy Wizzard'"
      ]
     },
     "execution_count": 144,
     "metadata": {},
     "output_type": "execute_result"
    }
   ],
   "source": [
    "characters['Harry Porter']"
   ]
  },
  {
   "cell_type": "code",
   "execution_count": 263,
   "metadata": {},
   "outputs": [
    {
     "name": "stdout",
     "output_type": "stream",
     "text": [
      "{'one': 1, 'two': 'to', 'three': 3.0, 'four': [4, 4.0]}\n"
     ]
    }
   ],
   "source": [
    "a = {'one': 1, 'two': 'to', 'three': 3.0, 'four': [4,4.0]}\n",
    "print(a)"
   ]
  },
  {
   "cell_type": "code",
   "execution_count": 264,
   "metadata": {},
   "outputs": [
    {
     "name": "stdout",
     "output_type": "stream",
     "text": [
      "{'one': 1.0, 'two': 'to', 'three': 3.0, 'four': [4, 4.0]}\n"
     ]
    }
   ],
   "source": [
    "a['one'] = 1.0 \n",
    "print(a)"
   ]
  },
  {
   "cell_type": "markdown",
   "metadata": {},
   "source": [
    "### Deleting an entry in a dictionary"
   ]
  },
  {
   "cell_type": "code",
   "execution_count": 265,
   "metadata": {},
   "outputs": [
    {
     "name": "stdout",
     "output_type": "stream",
     "text": [
      "{'two': 'to', 'three': 3.0, 'four': [4, 4.0]}\n"
     ]
    }
   ],
   "source": [
    "del a['one'] \n",
    "print(a)"
   ]
  },
  {
   "cell_type": "markdown",
   "metadata": {},
   "source": [
    "### Selecting items that don't exist\n",
    "A common issue that encounter with dictionaries is selecting items that don't exist.  Various solutions are available, but the most straight forward way is to check to make sure the key exists before selecting the element, or just use the `.get()` method that is available to every dictionary object, allowing you to select an item but return a default value if the key doesn't exist.\n",
    "\n",
    "> You can use what's called a \"DefaultDict\" to handle this problem as well but it must be imported from `collections`."
   ]
  },
  {
   "cell_type": "code",
   "execution_count": 145,
   "metadata": {},
   "outputs": [],
   "source": [
    "# There is no \"geodude\" in our dictionary.\n",
    "pokedex.get(\"geodude\")"
   ]
  },
  {
   "cell_type": "code",
   "execution_count": 147,
   "metadata": {},
   "outputs": [
    {
     "data": {
      "text/plain": [
       "'No charizard in dictionary'"
      ]
     },
     "execution_count": 147,
     "metadata": {},
     "output_type": "execute_result"
    }
   ],
   "source": [
    "# The get method accepts arguments. \n",
    "# The key and the value to display if no key exists\n",
    "pokedex.get(\"DJ PORTER\", \"No charizard in dictionary\")"
   ]
  },
  {
   "cell_type": "markdown",
   "metadata": {},
   "source": [
    "### We can add or update an element to a dictionary by referencing the key within brackets `[key name]`"
   ]
  },
  {
   "cell_type": "code",
   "execution_count": 148,
   "metadata": {},
   "outputs": [
    {
     "data": {
      "text/plain": [
       "{'pikachu': {'speed': 15, 'power': 150},\n",
       " 'charizard': {'speed': 15,\n",
       "  'power': 150,\n",
       "  'cellphone': {'motorola': {'phone': [8001234567, 8001234568, 8001234569]}}},\n",
       " 'bulbasaur': {'speed': 15, 'power': 150},\n",
       " 'pikach': {'speed': 10, 'power': 200}}"
      ]
     },
     "execution_count": 148,
     "metadata": {},
     "output_type": "execute_result"
    }
   ],
   "source": [
    "pokedex[\"pikach\"] = {\"speed\": 10, \"power\": 200}\n",
    "pokedex"
   ]
  },
  {
   "cell_type": "markdown",
   "metadata": {},
   "source": [
    "### We can update multiple elements in a dictionary with an `.update()`\n",
    "Notice \"geodude\" is updated, but we've also added an element by key that didn't exist yet.  `update()` will update elements with matching keys, but add new elements by key when input don't match existing keys."
   ]
  },
  {
   "cell_type": "code",
   "execution_count": 149,
   "metadata": {},
   "outputs": [
    {
     "data": {
      "text/plain": [
       "{'pikachu': {'speed': 15, 'power': 150},\n",
       " 'charizard': {'speed': 15,\n",
       "  'power': 150,\n",
       "  'cellphone': {'motorola': {'phone': [8001234567, 8001234568, 8001234569]}}},\n",
       " 'bulbasaur': {'speed': 15, 'power': 150},\n",
       " 'pikach': {'speed': 10, 'power': 200}}"
      ]
     },
     "execution_count": 149,
     "metadata": {},
     "output_type": "execute_result"
    }
   ],
   "source": [
    "pokedex"
   ]
  },
  {
   "cell_type": "code",
   "execution_count": 150,
   "metadata": {},
   "outputs": [
    {
     "data": {
      "text/plain": [
       "{'pikachu': {'speed': 15, 'power': 150},\n",
       " 'charizard': {'speed': 15,\n",
       "  'power': 150,\n",
       "  'cellphone': {'motorola': {'phone': [8001234567, 8001234568, 8001234569]}}},\n",
       " 'bulbasaur': {'speed': 15, 'power': 150},\n",
       " 'pikach': {'speed': 10, 'power': 200},\n",
       " 'geodude': {'speed': 15, 'power': 205},\n",
       " 'jiggly puff': {'speed': 25, 'power': 100}}"
      ]
     },
     "execution_count": 150,
     "metadata": {},
     "output_type": "execute_result"
    }
   ],
   "source": [
    "pokedex.update({\n",
    "    \"geodude\": {\n",
    "        \"speed\": 15,\n",
    "        \"power\": 205,\n",
    "    },\n",
    "    \"jiggly puff\": {\n",
    "        \"speed\": 25,\n",
    "        \"power\": 100\n",
    "    }\n",
    "})\n",
    "pokedex"
   ]
  },
  {
   "cell_type": "markdown",
   "metadata": {},
   "source": [
    "### .keys() and .values() methods on a dictionary"
   ]
  },
  {
   "cell_type": "code",
   "execution_count": 152,
   "metadata": {},
   "outputs": [
    {
     "data": {
      "text/plain": [
       "dict_keys(['pikachu', 'charizard', 'bulbasaur', 'pikach', 'geodude', 'jiggly puff'])"
      ]
     },
     "execution_count": 152,
     "metadata": {},
     "output_type": "execute_result"
    }
   ],
   "source": [
    "# The keys method displays all the keys in the pokedex dictionary\n",
    "pokedex.keys()"
   ]
  },
  {
   "cell_type": "code",
   "execution_count": 153,
   "metadata": {},
   "outputs": [
    {
     "data": {
      "text/plain": [
       "dict_values([{'speed': 15, 'power': 150}, {'speed': 15, 'power': 150, 'cellphone': {'motorola': {'phone': [8001234567, 8001234568, 8001234569]}}}, {'speed': 15, 'power': 150}, {'speed': 10, 'power': 200}, {'speed': 15, 'power': 205}, {'speed': 25, 'power': 100}])"
      ]
     },
     "execution_count": 153,
     "metadata": {},
     "output_type": "execute_result"
    }
   ],
   "source": [
    "# If we only want the values\n",
    "pokedex.values()"
   ]
  },
  {
   "cell_type": "markdown",
   "metadata": {},
   "source": [
    "#### Multiple variable assignement \n",
    " Python can assign multiple variables from sequential objects.\n",
    "Lets start with this `tuple`.\n",
    "\n",
    "A tuple is a sequence of immutable Python objects. Tuples are sequences, just like lists. The differences between tuples and lists are, the tuples cannot be changed unlike lists and tuples use parentheses, whereas lists use square brackets"
   ]
  },
  {
   "cell_type": "code",
   "execution_count": 154,
   "metadata": {},
   "outputs": [
    {
     "name": "stdout",
     "output_type": "stream",
     "text": [
      "Person:  Gus\n",
      "Animal:  Baboon\n"
     ]
    }
   ],
   "source": [
    "person, animal = (\"Chuck\", \"Dog\")\n",
    "print(\"Person: \", person)\n",
    "print(\"Animal: \", animal)"
   ]
  },
  {
   "cell_type": "markdown",
   "metadata": {},
   "source": [
    "This works with `list` objects too."
   ]
  },
  {
   "cell_type": "code",
   "execution_count": 157,
   "metadata": {},
   "outputs": [
    {
     "name": "stdout",
     "output_type": "stream",
     "text": [
      "Person:  Gus\n",
      "Animal:  Eagle\n"
     ]
    }
   ],
   "source": [
    "person, animal = [\"Gus\", \"Eagle\"]\n",
    "print(\"Person: \", person)\n",
    "print(\"Animal: \", animal)"
   ]
  },
  {
   "cell_type": "markdown",
   "metadata": {},
   "source": [
    "We can \"unpack\" as many objects contained in a sequential object as long as we have an equal number of variables to place them in.  Not just 2!"
   ]
  },
  {
   "cell_type": "code",
   "execution_count": 158,
   "metadata": {},
   "outputs": [
    {
     "name": "stdout",
     "output_type": "stream",
     "text": [
      "Animal: Hawk\n",
      "Mineral:  Iron\n",
      "Person:  Chucky\n",
      "Movie:  Home Alone\n"
     ]
    }
   ],
   "source": [
    "animal, mineral, person, movie = (\"Hawk\", \"Iron\", \"Chucky\", \"Home Alone\")\n",
    "\n",
    "print(\"Animal:\", animal)\n",
    "print(\"Mineral: \", mineral)\n",
    "print(\"Person: \", person)\n",
    "print(\"Movie: \", movie)"
   ]
  },
  {
   "cell_type": "code",
   "execution_count": 159,
   "metadata": {},
   "outputs": [],
   "source": [
    "# IN effect, [some dictionary].items()\n",
    "pokedex_list = [\n",
    "    ('pikachu', {'speed': 15, 'power': 150}), \n",
    "    ('charizard', {'speed': 15, 'power': 150, 'cellphone': {'motorola': {'phone': [8001234567, 8001234568, 8001234569]}}}), \n",
    "    ('bulbasaur', {'speed': 15, 'power': 150}), \n",
    "    ('geodude', {'speed': 15, 'power': 205}), \n",
    "    ('jiggly puff', {'speed': 25, 'power': 100})\n",
    "]"
   ]
  },
  {
   "cell_type": "code",
   "execution_count": 193,
   "metadata": {},
   "outputs": [],
   "source": [
    "pokemon, stats = pokedex_list[0]"
   ]
  },
  {
   "cell_type": "code",
   "execution_count": 194,
   "metadata": {},
   "outputs": [
    {
     "data": {
      "text/plain": [
       "'pikachu'"
      ]
     },
     "execution_count": 194,
     "metadata": {},
     "output_type": "execute_result"
    }
   ],
   "source": [
    "pokemon"
   ]
  },
  {
   "cell_type": "code",
   "execution_count": 196,
   "metadata": {},
   "outputs": [
    {
     "data": {
      "text/plain": [
       "{'speed': 15, 'power': 150}"
      ]
     },
     "execution_count": 196,
     "metadata": {},
     "output_type": "execute_result"
    }
   ],
   "source": [
    "stats"
   ]
  },
  {
   "cell_type": "code",
   "execution_count": 197,
   "metadata": {},
   "outputs": [
    {
     "data": {
      "text/plain": [
       "dict_items([('pikachu', {'speed': 15, 'power': 150}), ('charizard', {'speed': 15, 'power': 150, 'cellphone': {'motorola': {'phone': [8001234567, 8001234568, 8001234569]}}}), ('bulbasaur', {'speed': 15, 'power': 150}), ('pikach', {'speed': 10, 'power': 200}), ('geodude', {'speed': 15, 'power': 205}), ('jiggly puff', {'speed': 25, 'power': 100})])"
      ]
     },
     "execution_count": 197,
     "metadata": {},
     "output_type": "execute_result"
    }
   ],
   "source": [
    "pokedex.items()"
   ]
  },
  {
   "cell_type": "markdown",
   "metadata": {},
   "source": [
    "In the above example, the variables `pokemon` and `stats` are unpacked for each key and value for the `pokedex` dictionary, in interation."
   ]
  },
  {
   "cell_type": "markdown",
   "metadata": {},
   "source": [
    "### Iterating over dictionaries\n",
    "\n",
    "The dictionary method `.items()` provides a convenient way to unpack each item in your dictionary to coresponding variables for \"key\" and \"value\", in iteration."
   ]
  },
  {
   "cell_type": "code",
   "execution_count": 198,
   "metadata": {},
   "outputs": [
    {
     "data": {
      "text/plain": [
       "{'pikachu': {'speed': 15, 'power': 150},\n",
       " 'charizard': {'speed': 15,\n",
       "  'power': 150,\n",
       "  'cellphone': {'motorola': {'phone': [8001234567, 8001234568, 8001234569]}}},\n",
       " 'bulbasaur': {'speed': 15, 'power': 150},\n",
       " 'pikach': {'speed': 10, 'power': 200},\n",
       " 'geodude': {'speed': 15, 'power': 205},\n",
       " 'jiggly puff': {'speed': 25, 'power': 100}}"
      ]
     },
     "execution_count": 198,
     "metadata": {},
     "output_type": "execute_result"
    }
   ],
   "source": [
    "pokedex"
   ]
  },
  {
   "cell_type": "code",
   "execution_count": 199,
   "metadata": {},
   "outputs": [],
   "source": [
    "sample = {\n",
    "    \"key 1\": \"value 1\",\n",
    "    \"key 2\": \"value 2\",\n",
    "    \"key 3\": \"value 3\",\n",
    "}"
   ]
  },
  {
   "cell_type": "code",
   "execution_count": 200,
   "metadata": {},
   "outputs": [
    {
     "data": {
      "text/plain": [
       "dict_items([('key 1', 'value 1'), ('key 2', 'value 2'), ('key 3', 'value 3')])"
      ]
     },
     "execution_count": 200,
     "metadata": {},
     "output_type": "execute_result"
    }
   ],
   "source": [
    "simple.items()"
   ]
  },
  {
   "cell_type": "code",
   "execution_count": 201,
   "metadata": {},
   "outputs": [],
   "source": [
    "## The above is the same as this structure:\n",
    "\n",
    "simple_items = [\n",
    "    ('key 1', 'value 1'), \n",
    "    ('key 2', 'value 2'), \n",
    "    ('key 3', 'value 3')\n",
    "]"
   ]
  },
  {
   "cell_type": "code",
   "execution_count": 202,
   "metadata": {},
   "outputs": [
    {
     "name": "stdout",
     "output_type": "stream",
     "text": [
      "key 1\n",
      "value 1\n",
      "key 2\n",
      "value 2\n",
      "key 3\n",
      "value 3\n"
     ]
    }
   ],
   "source": [
    "for key, val in sample.items():\n",
    "    print(key)\n",
    "    print(val)"
   ]
  },
  {
   "cell_type": "code",
   "execution_count": 203,
   "metadata": {},
   "outputs": [
    {
     "name": "stdout",
     "output_type": "stream",
     "text": [
      "Pokemon: pikachu\n",
      "Stats: {'speed': 15, 'power': 150}\n",
      "Pokemon: charizard\n",
      "Stats: {'speed': 15, 'power': 150, 'cellphone': {'motorola': {'phone': [8001234567, 8001234568, 8001234569]}}}\n",
      "Pokemon: bulbasaur\n",
      "Stats: {'speed': 15, 'power': 150}\n",
      "Pokemon: pikach\n",
      "Stats: {'speed': 10, 'power': 200}\n",
      "Pokemon: geodude\n",
      "Stats: {'speed': 15, 'power': 205}\n",
      "Pokemon: jiggly puff\n",
      "Stats: {'speed': 25, 'power': 100}\n"
     ]
    }
   ],
   "source": [
    "for pokemon, stats in pokedex.items():\n",
    "    print(\"Pokemon:\", pokemon)\n",
    "    print(\"Stats:\", stats)"
   ]
  },
  {
   "cell_type": "markdown",
   "metadata": {},
   "source": [
    "#### Iterating, enumeration, and functional approaches looping \n",
    "\n",
    "the .enumerate() method adds a counter to an iterable. It allows you to assign an index to each item in the collection you are looping over."
   ]
  },
  {
   "cell_type": "code",
   "execution_count": 204,
   "metadata": {},
   "outputs": [],
   "source": [
    "test_list = [2,3,4,86,45,22]"
   ]
  },
  {
   "cell_type": "code",
   "execution_count": 219,
   "metadata": {},
   "outputs": [
    {
     "data": {
      "text/plain": [
       "[0, 1, 2, 3, 4, 5]"
      ]
     },
     "execution_count": 219,
     "metadata": {},
     "output_type": "execute_result"
    }
   ],
   "source": [
    "# This bit of code returns the index of each value in our list\n",
    "list(range(len(test_list)))"
   ]
  },
  {
   "cell_type": "code",
   "execution_count": 206,
   "metadata": {},
   "outputs": [
    {
     "name": "stdout",
     "output_type": "stream",
     "text": [
      "0 2\n",
      "1 3\n",
      "2 4\n",
      "3 86\n",
      "4 45\n",
      "5 22\n"
     ]
    }
   ],
   "source": [
    "for index in range(len(test_list)):\n",
    "    print(index, test_list[index])"
   ]
  },
  {
   "cell_type": "code",
   "execution_count": 207,
   "metadata": {},
   "outputs": [
    {
     "name": "stdout",
     "output_type": "stream",
     "text": [
      "index: 0 number 2\n",
      "index: 1 number 3\n",
      "index: 2 number 4\n",
      "index: 3 number 86\n",
      "index: 4 number 45\n",
      "index: 5 number 22\n"
     ]
    }
   ],
   "source": [
    "for index, number in enumerate(test_list):\n",
    "    print(\"index:\", index, \"number\", number)\n",
    "    test_list[index] = test_list[index] * 10"
   ]
  },
  {
   "cell_type": "code",
   "execution_count": 208,
   "metadata": {},
   "outputs": [
    {
     "data": {
      "text/plain": [
       "[20, 30, 40, 860, 450, 220]"
      ]
     },
     "execution_count": 208,
     "metadata": {},
     "output_type": "execute_result"
    }
   ],
   "source": [
    "test_list"
   ]
  },
  {
   "cell_type": "code",
   "execution_count": 210,
   "metadata": {},
   "outputs": [
    {
     "data": {
      "text/plain": [
       "[(0, 20), (1, 30), (2, 40), (3, 860), (4, 450), (5, 220)]"
      ]
     },
     "execution_count": 210,
     "metadata": {},
     "output_type": "execute_result"
    }
   ],
   "source": [
    "#this functional approach returns a list of tuples\n",
    "list(enumerate(test_list))"
   ]
  },
  {
   "cell_type": "code",
   "execution_count": 212,
   "metadata": {},
   "outputs": [
    {
     "name": "stdout",
     "output_type": "stream",
     "text": [
      "Tesla\n",
      "{'horsepower': 150, 'speed': 150}\n"
     ]
    }
   ],
   "source": [
    "# pokemon assigned \"charizard\" and \"stats\" is assigned to the 2nd item in the sequence which is a dictionary of stats. \n",
    "cars, stats = (\"Tesla\", {\"horsepower\": 150, \"speed\": 150} )\n",
    "\n",
    "print(cars)\n",
    "print(stats)"
   ]
  },
  {
   "cell_type": "code",
   "execution_count": 213,
   "metadata": {},
   "outputs": [
    {
     "data": {
      "text/plain": [
       "150"
      ]
     },
     "execution_count": 213,
     "metadata": {},
     "output_type": "execute_result"
    }
   ],
   "source": [
    "stats['horsepower']"
   ]
  },
  {
   "cell_type": "code",
   "execution_count": 216,
   "metadata": {},
   "outputs": [
    {
     "data": {
      "text/plain": [
       "[(0, 'guitar'), (1, 'bass'), (2, 'trumpet')]"
      ]
     },
     "execution_count": 216,
     "metadata": {},
     "output_type": "execute_result"
    }
   ],
   "source": [
    "'''enumerating a list using a functional paradigm\n",
    "This returns a list of tuples\n",
    "'''\n",
    "instruments = ['guitar','bass','trumpet']\n",
    "list(enumerate(instruments))"
   ]
  },
  {
   "cell_type": "markdown",
   "metadata": {},
   "source": [
    "#### iterating a list using a for loop"
   ]
  },
  {
   "cell_type": "code",
   "execution_count": 217,
   "metadata": {},
   "outputs": [
    {
     "name": "stdout",
     "output_type": "stream",
     "text": [
      "guitar\n",
      "bass\n",
      "trumpet\n"
     ]
    }
   ],
   "source": [
    "# instrument is a throw away variable we declare when we define our for loop\n",
    "for instrument in instruments:\n",
    "    print(instrument)"
   ]
  },
  {
   "cell_type": "code",
   "execution_count": 218,
   "metadata": {},
   "outputs": [
    {
     "data": {
      "text/plain": [
       "[0, 1, 2]"
      ]
     },
     "execution_count": 218,
     "metadata": {},
     "output_type": "execute_result"
    }
   ],
   "source": [
    "list(range(len(instruments)))"
   ]
  },
  {
   "cell_type": "code",
   "execution_count": 223,
   "metadata": {},
   "outputs": [
    {
     "name": "stdout",
     "output_type": "stream",
     "text": [
      "0 guitar\n",
      "1 bass\n",
      "2 trumpet\n"
     ]
    }
   ],
   "source": [
    "# One way to enumerate in python\n",
    "# Not the most \"pythonic\" way to do it.\n",
    "# Python provides the enumerate method for this\n",
    "for index in range(len(instruments)):\n",
    "    print(index, instruments[index])"
   ]
  },
  {
   "cell_type": "code",
   "execution_count": 226,
   "metadata": {},
   "outputs": [
    {
     "name": "stdout",
     "output_type": "stream",
     "text": [
      "0 guitar\n",
      "1 bass\n",
      "2 trumpet\n"
     ]
    }
   ],
   "source": [
    "# Much cleaner and more pythonic\n",
    "for index, instrument in enumerate(instruments):\n",
    "    print(index, instrument)"
   ]
  },
  {
   "cell_type": "markdown",
   "metadata": {},
   "source": [
    "### Enumeration and lists\n",
    "What if we have two separate list the we need to create key value pairs out of?\n",
    "- Python gives is a pretty easy way to do that using the zip() function"
   ]
  },
  {
   "cell_type": "code",
   "execution_count": 234,
   "metadata": {},
   "outputs": [],
   "source": [
    "pokemans = [\"Speakachu\", \"Chortizord\", \"Youtoo\", \"Geraldo\",'Jugalo Puff','']\n",
    "poke_stats    = [\n",
    "    {\"power\": 1500,  \"speed\": 1235},\n",
    "    {\"power\": 350,  \"speed\": 2440},\n",
    "    {\"power\": 9000,  \"speed\": 900},\n",
    "    {\"power\": 5004, \"speed\": 30000},\n",
    "]"
   ]
  },
  {
   "cell_type": "markdown",
   "metadata": {},
   "source": [
    "Each item in sequence matches up. `pokemans[0]` cooresponds to `poke_stats[0]`, and `pokemans[1]` to `poke_stats[1]`, etc.\n",
    "\n",
    "#### We can iterate through each list individually but how might we access each matching item at the same time in one single iteration?"
   ]
  },
  {
   "cell_type": "code",
   "execution_count": 235,
   "metadata": {},
   "outputs": [
    {
     "data": {
      "text/plain": [
       "('Speakachu', {'power': 1500, 'speed': 1235})"
      ]
     },
     "execution_count": 235,
     "metadata": {},
     "output_type": "execute_result"
    }
   ],
   "source": [
    "pokemans[0], poke_stats[0]"
   ]
  },
  {
   "cell_type": "code",
   "execution_count": 236,
   "metadata": {},
   "outputs": [
    {
     "data": {
      "text/plain": [
       "('Youtoo', {'power': 9000, 'speed': 900})"
      ]
     },
     "execution_count": 236,
     "metadata": {},
     "output_type": "execute_result"
    }
   ],
   "source": [
    "pokemans[2], poke_stats[2]"
   ]
  },
  {
   "cell_type": "markdown",
   "metadata": {},
   "source": [
    "#### zip()"
   ]
  },
  {
   "cell_type": "code",
   "execution_count": 237,
   "metadata": {},
   "outputs": [
    {
     "data": {
      "text/plain": [
       "[('Speakachu', {'power': 1500, 'speed': 1235}),\n",
       " ('Chortizord', {'power': 350, 'speed': 2440}),\n",
       " ('Youtoo', {'power': 9000, 'speed': 900}),\n",
       " ('Geraldo', {'power': 5004, 'speed': 30000})]"
      ]
     },
     "execution_count": 237,
     "metadata": {},
     "output_type": "execute_result"
    }
   ],
   "source": [
    "list(zip(pokemans,poke_stats))"
   ]
  },
  {
   "cell_type": "markdown",
   "metadata": {},
   "source": [
    "### list comprehensions\n",
    "\n",
    "- This is a clean way to iterate over data\n",
    "- best used when the iteration is simple\n",
    "- for iteration with lots of logic involved it's usually more readable to use a for loop"
   ]
  },
  {
   "cell_type": "code",
   "execution_count": 241,
   "metadata": {},
   "outputs": [
    {
     "name": "stdout",
     "output_type": "stream",
     "text": [
      "My current value is 1\n",
      "My current value is 2\n",
      "My current value is 3\n",
      "My current value is 4\n",
      "My current value is 5\n",
      "My current value is 6\n",
      "My current value is 7\n",
      "My current value is 8\n",
      "My current value is 9\n"
     ]
    },
    {
     "data": {
      "text/plain": [
       "[1, 8, 27, 64, 125, 216, 343, 512, 729]"
      ]
     },
     "execution_count": 241,
     "metadata": {},
     "output_type": "execute_result"
    }
   ],
   "source": [
    "## For loop version of list comp\n",
    "\n",
    "# Declare an empty list to hold our values\n",
    "cubed_nums = []\n",
    "\n",
    "# Iterate over a list of numbers from 1-10\n",
    "for num in range(1,10):\n",
    "    # print the current value\n",
    "    print('My current value is', num)\n",
    "    # append the value to our empty list\n",
    "    cubed_nums.append(num ** 3)\n",
    "\n",
    "# display the contents of out list after we finish looping\n",
    "cubed_nums"
   ]
  },
  {
   "cell_type": "code",
   "execution_count": 243,
   "metadata": {},
   "outputs": [
    {
     "data": {
      "text/plain": [
       "[1, 8, 27, 64, 125, 216, 343, 512, 729, 1000, 1331]"
      ]
     },
     "execution_count": 243,
     "metadata": {},
     "output_type": "execute_result"
    }
   ],
   "source": [
    "# A list comprehension of the for loop above\n",
    "# Declare an a variable called num that will hold our value\n",
    "# cube that num\n",
    "# for every num in a range of 1-12 \n",
    "cubed_nums = [num ** 3 for num in range(1,12)]\n",
    "\n",
    "cubed_nums"
   ]
  },
  {
   "cell_type": "markdown",
   "metadata": {},
   "source": [
    "### Now as a _generator_\n",
    "Generators are more optimized for the cases when you just need to iterate in one direction, once.  There are a lot of semantics about how they're implemented but actually they are not that hard to use in place of list comprehensions.\n",
    "\n",
    "**List Comprehension vs Generator**\n",
    "\n",
    "List comprehension will create the entire list in memory first while the generator expression will create the items on the fly, so you are able to use it for very large (and also infinite!) sequences.  As you clean big data sets in the future on your laptop (or any instance where Python is available), you might remember this fact because it could mean the difference between actually being able to successfully clean or transform a dataset."
   ]
  },
  {
   "cell_type": "code",
   "execution_count": 246,
   "metadata": {},
   "outputs": [
    {
     "data": {
      "text/plain": [
       "<generator object <genexpr> at 0x10dc31e60>"
      ]
     },
     "execution_count": 246,
     "metadata": {},
     "output_type": "execute_result"
    }
   ],
   "source": [
    "# Notice how this time it doesn't return a list of values\n",
    "# Generators return a generator object\n",
    "# You need to iterate if you want to see the values\n",
    "numbers_squared = (num ** 2 for num in range(1, 5))\n",
    "numbers_squared"
   ]
  },
  {
   "cell_type": "code",
   "execution_count": 247,
   "metadata": {},
   "outputs": [
    {
     "data": {
      "text/plain": [
       "[1, 4, 9, 16]"
      ]
     },
     "execution_count": 247,
     "metadata": {},
     "output_type": "execute_result"
    }
   ],
   "source": [
    "# One way to do that functionally\n",
    "list(numbers_squared)"
   ]
  },
  {
   "cell_type": "markdown",
   "metadata": {},
   "source": [
    "#### Some things to keep in mind when using a generator\n",
    "- You can't access the data in any other manner other than forward\n",
    "- You can't use eatures such as `len()`, `sort()`, or `reversed()`\n",
    "- You can't handle exceptions at the time of list creation\n",
    "\n",
    "- Generators are often used when dealing with very large data sets"
   ]
  },
  {
   "cell_type": "code",
   "execution_count": 278,
   "metadata": {},
   "outputs": [
    {
     "data": {
      "text/plain": [
       "[23, 14, 6]"
      ]
     },
     "execution_count": 278,
     "metadata": {},
     "output_type": "execute_result"
    }
   ],
   "source": [
    "# Filter a list with a comprehension\n",
    "list_nums = [23,2,14,5,1,6]\n",
    "\n",
    "new_list = [x for x in list_nums if x > 5]\n",
    "\n",
    "new_list"
   ]
  },
  {
   "cell_type": "markdown",
   "metadata": {},
   "source": [
    "### Booleans\n",
    "\n",
    "We often use booleans usually in control flow logic to check if a a piece of data evaluates to true or false so that our program can decide what to do next\n",
    "\n",
    "**These values are evaluated to \"False\"**\n",
    "- None\n",
    "- False\n",
    "- Zero of any numeric type\n",
    "- Any empty sequence: `'', (), []`"
   ]
  },
  {
   "cell_type": "code",
   "execution_count": 258,
   "metadata": {},
   "outputs": [
    {
     "name": "stdout",
     "output_type": "stream",
     "text": [
      "True\n",
      "<class 'bool'>\n",
      "<class 'bool'>\n",
      "True\n",
      "False\n"
     ]
    }
   ],
   "source": [
    "print(True)\n",
    "print(type(True))\n",
    "print(type(False))\n",
    "print(5 == 5)\n",
    "print(5 == 6)"
   ]
  },
  {
   "cell_type": "code",
   "execution_count": 259,
   "metadata": {},
   "outputs": [
    {
     "name": "stdout",
     "output_type": "stream",
     "text": [
      "Tom is currently logged in\n"
     ]
    }
   ],
   "source": [
    "# since user has a value it evaluates to true\n",
    "\n",
    "user = 'Tom'\n",
    "\n",
    "if user:\n",
    "    # if user: is shorthand for if user == True\n",
    "    print('{} is currently logged in'.format(user))\n",
    "else:\n",
    "    print('User is not currently logged in')"
   ]
  },
  {
   "cell_type": "code",
   "execution_count": 260,
   "metadata": {},
   "outputs": [
    {
     "name": "stdout",
     "output_type": "stream",
     "text": [
      "User is not currently logged in\n"
     ]
    }
   ],
   "source": [
    "user = ''\n",
    "if user:\n",
    "    print('{} is currently logged in'.format(user))\n",
    "else:\n",
    "    print('User is not currently logged in')"
   ]
  },
  {
   "cell_type": "markdown",
   "metadata": {},
   "source": [
    "### Dictionary Comprehensions\n",
    "\n",
    "- Just like with list python provides us a way to shorthand the iteration of a dictionary\n",
    "\n",
    "Dictionary comprehension is a method for transforming one dictionary into another dictionary. During this transformation, items within the original dictionary can be conditionally included in the new dictionary and each item can be transformed as needed.\n",
    "\n",
    "\n"
   ]
  },
  {
   "cell_type": "code",
   "execution_count": 262,
   "metadata": {},
   "outputs": [
    {
     "name": "stdout",
     "output_type": "stream",
     "text": [
      "{'a': 2, 'b': 4, 'c': 6, 'd': 8, 'e': 10}\n"
     ]
    }
   ],
   "source": [
    "dict1 = {'a': 1, 'b': 2, 'c': 3, 'd': 4, 'e': 5}\n",
    "# Read aloud: key, value time 2 for each key value in dict1.items\n",
    "double_dict1 = {k:v*2 for (k,v) in dict1.items()}\n",
    "print(double_dict1)"
   ]
  },
  {
   "cell_type": "markdown",
   "metadata": {},
   "source": [
    "### Filtering Dictionaries with a comprehension"
   ]
  },
  {
   "cell_type": "code",
   "execution_count": 266,
   "metadata": {},
   "outputs": [
    {
     "data": {
      "text/plain": [
       "{'foo@bar.com', 'john@doe.com', 'yourgrandmother@aol.com'}"
      ]
     },
     "execution_count": 266,
     "metadata": {},
     "output_type": "execute_result"
    }
   ],
   "source": [
    "users = {\n",
    "    'user1': 'FOO@BAR.COM',\n",
    "    'user2': 'JOHN@DOE.COM',\n",
    "    'user3': 'YOURGRANDMOTHER@AOL.COM'\n",
    "}\n",
    "\n",
    "{user_id: email.lower() for user_id, email in users.items()}\n",
    "[email.lower() for _, email in users.items()]\n",
    "[email.lower() for _, email in users.items()]\n",
    "[e.lower() for e in users.values()]\n",
    "{e.lower() for key, e in users.items()}\n"
   ]
  },
  {
   "cell_type": "code",
   "execution_count": 267,
   "metadata": {},
   "outputs": [
    {
     "data": {
      "text/plain": [
       "{'user3': 'YOURGRANDMOTHER@AOL.COM'}"
      ]
     },
     "execution_count": 267,
     "metadata": {},
     "output_type": "execute_result"
    }
   ],
   "source": [
    "{user_id:email for user_id,email in users.items() if '@aol.com' in email.lower()}"
   ]
  }
 ],
 "metadata": {
  "kernelspec": {
   "display_name": "Python 3",
   "language": "python",
   "name": "python3"
  },
  "language_info": {
   "codemirror_mode": {
    "name": "ipython",
    "version": 3
   },
   "file_extension": ".py",
   "mimetype": "text/x-python",
   "name": "python",
   "nbconvert_exporter": "python",
   "pygments_lexer": "ipython3",
   "version": "3.6.9"
  }
 },
 "nbformat": 4,
 "nbformat_minor": 2
}
