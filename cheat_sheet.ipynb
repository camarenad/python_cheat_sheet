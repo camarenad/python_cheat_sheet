{
 "cells": [
  {
   "cell_type": "markdown",
   "metadata": {},
   "source": [
    "# Python Basics\n",
    "\n",
    "- Integers, strings, tuples, lists, and dictionaries\n",
    "- Arithmetic operations and string operations\n",
    "- Variable assignment\n"
   ]
  },
  {
   "cell_type": "markdown",
   "metadata": {},
   "source": [
    "## Variables\n",
    "You can think of variables as containers to store and hold your data for later use. Variables can hold any data type. You can \"declare\" a variable the following way:\n",
    "\n",
    "- number_list = [1,2,3]\n",
    "- string = \"Goodbye\"\n",
    "- stored_dictionary = {\"name\":\"phil\"}\n",
    "- number_var = 23\n",
    "- tuple_var = ('ice','chips','soda')\n",
    "\n",
    "e.g. \n"
   ]
  },
  {
   "cell_type": "markdown",
   "metadata": {},
   "source": [
    "## String Type\n",
    "\"baseball\"\n",
    "\n",
    "- Strings are a collection of characters enclosed in \" \" or ' '\n",
    "- Is mutable (can be changed)\n",
    "- Can be indexed by offset\n",
    "- Built in functions to determine length, search and format\n"
   ]
  },
  {
   "cell_type": "markdown",
   "metadata": {},
   "source": [
    "## Number\n",
    "- Integer 12, 43, -23\n",
    "- Float 23.5, 50.23\n",
    "- Long 187687654564658970978909869576453"
   ]
  },
  {
   "cell_type": "markdown",
   "metadata": {},
   "source": [
    "## List type\n",
    "[\"hats\",\"shirts\",\"socks\",10,12]\n",
    "- A list is used to store a collection of data \n",
    "- The data can be of any type e.g. strings, numbers, lists, dictionaries\n",
    "- Brackets wrapping data indicate a list type e.g.\n",
    "- Is mutable (can be changed)\n",
    "- Can be indexed by offset\n",
    "- Built-in functions to count, search, reverse, etc"
   ]
  },
  {
   "cell_type": "code",
   "execution_count": null,
   "metadata": {},
   "outputs": [],
   "source": []
  }
 ],
 "metadata": {
  "kernelspec": {
   "display_name": "Python 3",
   "language": "python",
   "name": "python3"
  },
  "language_info": {
   "codemirror_mode": {
    "name": "ipython",
    "version": 3
   },
   "file_extension": ".py",
   "mimetype": "text/x-python",
   "name": "python",
   "nbconvert_exporter": "python",
   "pygments_lexer": "ipython3",
   "version": "3.6.9"
  }
 },
 "nbformat": 4,
 "nbformat_minor": 2
}
